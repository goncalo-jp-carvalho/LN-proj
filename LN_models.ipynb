{
  "cells": [
    {
      "cell_type": "code",
      "execution_count": 249,
      "id": "b8724e65",
      "metadata": {
        "colab": {
          "base_uri": "https://localhost:8080/"
        },
        "id": "b8724e65",
        "outputId": "033ebdf7-32c4-4150-c89a-52b4eb2293dd"
      },
      "outputs": [
        {
          "data": {
            "text/plain": [
              "True"
            ]
          },
          "execution_count": 249,
          "metadata": {},
          "output_type": "execute_result"
        }
      ],
      "source": [
        "# Standard library imports\n",
        "import argparse\n",
        "import re\n",
        "import warnings\n",
        "\n",
        "# Third-party libraries\n",
        "import contractions\n",
        "import nltk\n",
        "import numpy as np\n",
        "import pandas as pd\n",
        "import matplotlib.pyplot as plt\n",
        "import seaborn as sns\n",
        "from joblib import dump, load\n",
        "from nltk.corpus import wordnet, stopwords\n",
        "from nltk.stem import WordNetLemmatizer\n",
        "from nltk.tokenize import word_tokenize\n",
        "from sklearn.feature_extraction.text import CountVectorizer, TfidfVectorizer\n",
        "from sklearn.metrics import accuracy_score, classification_report, confusion_matrix\n",
        "from sklearn.model_selection import GridSearchCV, train_test_split, cross_val_score\n",
        "from sklearn.preprocessing import LabelEncoder\n",
        "from sklearn.svm import SVC\n",
        "from sklearn.naive_bayes import GaussianNB\n",
        "from sklearn.naive_bayes import MultinomialNB\n",
        "\n",
        "# NLTK downloads\n",
        "nltk.download('punkt', quiet=True)\n",
        "nltk.download('stopwords', quiet=True)\n",
        "nltk.download('wordnet', quiet=True)\n",
        "nltk.download('averaged_perceptron_tagger', quiet=True)"
      ]
    },
    {
      "cell_type": "markdown",
      "id": "bIYF332EU8zt",
      "metadata": {
        "id": "bIYF332EU8zt"
      },
      "source": [
        "## Load data"
      ]
    },
    {
      "cell_type": "code",
      "execution_count": 293,
      "id": "VLJfiPFfU42E",
      "metadata": {
        "id": "VLJfiPFfU42E"
      },
      "outputs": [],
      "source": [
        "def load_data(filepath):\n",
        "    data = pd.read_csv(filepath, sep='\\t', names=['title', 'from', 'genre', 'director', 'plot'])\n",
        "    return data"
      ]
    },
    {
      "cell_type": "code",
      "execution_count": 294,
      "id": "J7nx_vn7VDpN",
      "metadata": {
        "colab": {
          "base_uri": "https://localhost:8080/",
          "height": 206
        },
        "id": "J7nx_vn7VDpN",
        "outputId": "fb749847-7ac9-43ae-83f9-42a891eba5e3"
      },
      "outputs": [
        {
          "data": {
            "text/html": [
              "<div>\n",
              "<style scoped>\n",
              "    .dataframe tbody tr th:only-of-type {\n",
              "        vertical-align: middle;\n",
              "    }\n",
              "\n",
              "    .dataframe tbody tr th {\n",
              "        vertical-align: top;\n",
              "    }\n",
              "\n",
              "    .dataframe thead th {\n",
              "        text-align: right;\n",
              "    }\n",
              "</style>\n",
              "<table border=\"1\" class=\"dataframe\">\n",
              "  <thead>\n",
              "    <tr style=\"text-align: right;\">\n",
              "      <th></th>\n",
              "      <th>title</th>\n",
              "      <th>from</th>\n",
              "      <th>genre</th>\n",
              "      <th>director</th>\n",
              "      <th>plot</th>\n",
              "    </tr>\n",
              "  </thead>\n",
              "  <tbody>\n",
              "    <tr>\n",
              "      <th>0</th>\n",
              "      <td>Ela Cheppanu</td>\n",
              "      <td>Telugu</td>\n",
              "      <td>romance</td>\n",
              "      <td>Ramana</td>\n",
              "      <td>Sekhar (Tarun) is a graduate from IIM and work...</td>\n",
              "    </tr>\n",
              "    <tr>\n",
              "      <th>1</th>\n",
              "      <td>A Nightmare on Elm Street</td>\n",
              "      <td>American</td>\n",
              "      <td>horror</td>\n",
              "      <td>Samuel Bayer</td>\n",
              "      <td>Kris Fowles (Katie Cassidy) goes to the Spring...</td>\n",
              "    </tr>\n",
              "    <tr>\n",
              "      <th>2</th>\n",
              "      <td>American Gothic</td>\n",
              "      <td>American</td>\n",
              "      <td>horror</td>\n",
              "      <td>John Hough</td>\n",
              "      <td>Cynthia is traumatized by the death of her bab...</td>\n",
              "    </tr>\n",
              "    <tr>\n",
              "      <th>3</th>\n",
              "      <td>Gang</td>\n",
              "      <td>Bollywood</td>\n",
              "      <td>crime</td>\n",
              "      <td>Mazhar Khan</td>\n",
              "      <td>Four friends, Gangu (Jackie Shroff), Abdul (Na...</td>\n",
              "    </tr>\n",
              "    <tr>\n",
              "      <th>4</th>\n",
              "      <td>Intimate Relations</td>\n",
              "      <td>British</td>\n",
              "      <td>drama</td>\n",
              "      <td>Charles Frank</td>\n",
              "      <td>Crisis in a middle-class family when the son f...</td>\n",
              "    </tr>\n",
              "  </tbody>\n",
              "</table>\n",
              "</div>"
            ],
            "text/plain": [
              "                       title       from    genre       director  \\\n",
              "0               Ela Cheppanu     Telugu  romance         Ramana   \n",
              "1  A Nightmare on Elm Street   American   horror   Samuel Bayer   \n",
              "2            American Gothic   American   horror     John Hough   \n",
              "3                       Gang  Bollywood    crime    Mazhar Khan   \n",
              "4         Intimate Relations    British    drama  Charles Frank   \n",
              "\n",
              "                                                plot  \n",
              "0  Sekhar (Tarun) is a graduate from IIM and work...  \n",
              "1  Kris Fowles (Katie Cassidy) goes to the Spring...  \n",
              "2  Cynthia is traumatized by the death of her bab...  \n",
              "3  Four friends, Gangu (Jackie Shroff), Abdul (Na...  \n",
              "4  Crisis in a middle-class family when the son f...  "
            ]
          },
          "execution_count": 294,
          "metadata": {},
          "output_type": "execute_result"
        }
      ],
      "source": [
        "data = load_data('train.txt')\n",
        "data.head()"
      ]
    },
    {
      "cell_type": "markdown",
      "id": "3cb7de66",
      "metadata": {
        "id": "3cb7de66"
      },
      "source": [
        "# Clean the text"
      ]
    },
    {
      "cell_type": "code",
      "execution_count": 252,
      "id": "d6d2e2e1",
      "metadata": {
        "id": "d6d2e2e1"
      },
      "outputs": [],
      "source": [
        "# Clean the text\n",
        "def clean_text(text):\n",
        "    # Check if the text is a non-empty string\n",
        "    if not isinstance(text, str) or not text.strip():\n",
        "        return ''\n",
        "    \n",
        "    # Skip applying contractions if the text is too long or complex\n",
        "    if len(text) > 500:  # Threshold to skip contraction expansion for long texts\n",
        "        return text\n",
        "    \n",
        "    # Try expanding contractions safely\n",
        "    try:\n",
        "        text = contractions.fix(text)\n",
        "    except Exception as e:\n",
        "        print(f\"Error expanding contractions: {e}, for text: {text[:100]}...\")  # Only print the first 100 characters\n",
        "        return text  # Return the original text if expansion fails\n",
        "    \n",
        "    # Remove special characters and digits\n",
        "    text = re.sub(r'[^a-zA-Z\\s]', '', text)\n",
        "    \n",
        "    return text"
      ]
    },
    {
      "cell_type": "markdown",
      "id": "6c0c444d",
      "metadata": {
        "id": "6c0c444d"
      },
      "source": [
        "# Function to convert nltk POS tag to wordnet POS tag"
      ]
    },
    {
      "cell_type": "code",
      "execution_count": 253,
      "id": "450a9c24",
      "metadata": {
        "id": "450a9c24"
      },
      "outputs": [],
      "source": [
        "# Function to convert nltk POS tag to wordnet POS tag\n",
        "def get_wordnet_pos(tag):\n",
        "    if tag.startswith('J'):\n",
        "        return wordnet.ADJ  # Adjective\n",
        "    elif tag.startswith('V'):\n",
        "        return wordnet.VERB  # Verb\n",
        "    elif tag.startswith('N'):\n",
        "        return wordnet.NOUN  # Noun\n",
        "    elif tag.startswith('R'):\n",
        "        return wordnet.ADV  # Adverb\n",
        "    else:\n",
        "        return wordnet.NOUN  # Default to noun"
      ]
    },
    {
      "cell_type": "markdown",
      "id": "663b118d",
      "metadata": {
        "id": "663b118d"
      },
      "source": [
        "# Lemmatize the text"
      ]
    },
    {
      "cell_type": "code",
      "execution_count": 292,
      "id": "9e6b0e8c",
      "metadata": {
        "id": "9e6b0e8c"
      },
      "outputs": [],
      "source": [
        "# Lemmatize the text removing stop words\n",
        "stop_words = set(stopwords.words('english'))\n",
        "\n",
        "def lemmatize_text(text, stopwords):\n",
        "    lemmatizer = WordNetLemmatizer()\n",
        "    # Clean the text\n",
        "    text = clean_text(text)\n",
        "    # Tokenize the text\n",
        "    tokens = nltk.word_tokenize(text.lower())\n",
        "    # Remove stop words and non-alphabetic tokens\n",
        "    if stopwords:\n",
        "        tokens = [word for word in tokens if word.isalpha() and word not in stop_words]\n",
        "    else:\n",
        "        tokens = [word for word in tokens if word.isalpha()]\n",
        "    # Perform POS tagging\n",
        "    tagged_tokens = nltk.pos_tag(tokens)\n",
        "    # Lemmatize each token using the POS tag\n",
        "    lemmatized_tokens = [lemmatizer.lemmatize(word, get_wordnet_pos(pos)) for word, pos in tagged_tokens]\n",
        "    return ' '.join(lemmatized_tokens)\n"
      ]
    },
    {
      "cell_type": "markdown",
      "id": "18de5503",
      "metadata": {
        "id": "18de5503"
      },
      "source": [
        "# Preprocess the data"
      ]
    },
    {
      "cell_type": "code",
      "execution_count": 295,
      "id": "8f742ce4",
      "metadata": {
        "id": "8f742ce4"
      },
      "outputs": [],
      "source": [
        "# Preprocess the data without stop words\n",
        "def preprocess_data(data, lemmatize, stopwords, combine_fields):\n",
        "    # Extract relevant columns (plot, combine_fields, genre)\n",
        "    selected_fields = ['plot'] + combine_fields\n",
        "    if 'genre' in data.columns:\n",
        "        selected_fields.append('genre')\n",
        "    data = data[selected_fields].copy()\n",
        "    \n",
        "    # Handle missing values: drop rows with missing 'plot', fill missing combine_fields with ''\n",
        "    data.dropna(subset=['plot'], inplace=True)  # Ensure 'plot' is not NaN\n",
        "    for field in combine_fields:\n",
        "        data[field] = data[field].fillna('')  # Replace NaN in combine_fields with empty strings\n",
        "\n",
        "    # Combine plot and other specified fields into a single feature\n",
        "    data['combined_text'] = data['plot']\n",
        "    for field in combine_fields:\n",
        "        data['combined_text'] += ' ' + data[field]\n",
        "\n",
        "    # Apply lemmatization if specified\n",
        "    if lemmatize:\n",
        "        data['combined_text'] = data['combined_text'].apply(lemmatize_text, args=(stopwords,))\n",
        "    else:\n",
        "        # Clean the text anyway\n",
        "        data['combined_text'] = data['combined_text'].apply(clean_text)\n",
        "\n",
        "    return data"
      ]
    },
    {
      "cell_type": "code",
      "execution_count": 296,
      "id": "440ebf70",
      "metadata": {},
      "outputs": [],
      "source": [
        "combine_fields = ['from', 'director', 'title']\n",
        "data = preprocess_data(data, True, True, combine_fields)"
      ]
    },
    {
      "cell_type": "markdown",
      "id": "ecfcf52e",
      "metadata": {
        "id": "ecfcf52e"
      },
      "source": [
        "# Split data into training and test sets"
      ]
    },
    {
      "cell_type": "code",
      "execution_count": 297,
      "id": "c3968266",
      "metadata": {
        "colab": {
          "background_save": true
        },
        "id": "c3968266"
      },
      "outputs": [],
      "source": [
        "# Split data into training and test sets\n",
        "def split_data(data):\n",
        "    X = data['combined_text']\n",
        "    y = data['genre']\n",
        "    # Encode labels\n",
        "    label_encoder = LabelEncoder()\n",
        "    y_encoded = label_encoder.fit_transform(y)\n",
        "    X_train, X_test, y_train, y_test = train_test_split(X, y_encoded, test_size=0.1, random_state=42, stratify=y_encoded)\n",
        "    return X_train, X_test, y_train, y_test, label_encoder"
      ]
    },
    {
      "cell_type": "code",
      "execution_count": 298,
      "id": "blPLZCX3n4H3",
      "metadata": {
        "id": "blPLZCX3n4H3"
      },
      "outputs": [],
      "source": [
        "X_train, X_test, y_train, y_test, label_encoder = split_data(data)"
      ]
    },
    {
      "cell_type": "code",
      "execution_count": 273,
      "id": "6ecb944c",
      "metadata": {},
      "outputs": [
        {
          "data": {
            "text/plain": [
              "['models\\\\default\\\\label_encoder.plk']"
            ]
          },
          "execution_count": 273,
          "metadata": {},
          "output_type": "execute_result"
        }
      ],
      "source": [
        "# Save label encoder\n",
        "folder = 'models\\\\default\\\\'\n",
        "dump(label_encoder, f'{folder}label_encoder.plk')"
      ]
    },
    {
      "cell_type": "markdown",
      "id": "b64045c9",
      "metadata": {},
      "source": [
        "# Basic Statistics"
      ]
    },
    {
      "cell_type": "code",
      "execution_count": 299,
      "id": "80cd6a6d",
      "metadata": {},
      "outputs": [
        {
          "name": "stdout",
          "output_type": "stream",
          "text": [
            "\n",
            "------------------------------------------------------------\n",
            "Word Count Summary Statistics:\n",
            "------------------------------------------------------------\n",
            "count    7236.000000\n",
            "mean      207.007324\n",
            "std       169.177456\n",
            "min         7.000000\n",
            "25%        66.000000\n",
            "50%       159.000000\n",
            "75%       326.000000\n",
            "max      1610.000000\n",
            "Name: combined_text, dtype: float64\n"
          ]
        }
      ],
      "source": [
        "X_train_series = pd.Series(X_train)\n",
        "y_train_series = pd.Series(y_train)\n",
        "\n",
        "# Length analysis (counting words)\n",
        "word_count= X_train_series.apply(lambda x: len(x.split()))\n",
        "word_count_summary = word_count.describe()\n",
        "\n",
        "\n",
        "# Print the tables\n",
        "print(f\"\\n{'-'*60}\\nWord Count Summary Statistics:\\n{'-'*60}\")\n",
        "print(word_count_summary)"
      ]
    },
    {
      "cell_type": "markdown",
      "id": "69434f14",
      "metadata": {},
      "source": [
        "# Ploting"
      ]
    },
    {
      "cell_type": "code",
      "execution_count": 300,
      "id": "de9a9b0c",
      "metadata": {},
      "outputs": [
        {
          "data": {
            "image/png": "[encoded data removed]",
            "text/plain": [
              "<Figure size 1300x500 with 2 Axes>"
            ]
          },
          "metadata": {},
          "output_type": "display_data"
        }
      ],
      "source": [
        "# Assuming word_count_remove, word_count_not_remove, genre_counts_remove, and genre_counts_not_remove are defined appropriately\n",
        "with warnings.catch_warnings():\n",
        "    warnings.simplefilter(action='ignore', category=FutureWarning)\n",
        "\n",
        "    # Create a figure with 2x2 subplots\n",
        "    fig, axes = plt.subplots(1, 2, figsize=(13, 5))  # Adjusted height for better layout\n",
        "\n",
        "    # Word count distribution for word_count_remove\n",
        "    sns.histplot(word_count, bins=50, ax=axes[0], kde=True)\n",
        "    axes[0].set_title('Word Count Distribution')\n",
        "    axes[0].set_xlabel('Number of Words')\n",
        "    axes[0].set_ylabel('Frequency')\n",
        "\n",
        "    # Distribution of word counts per genre for y_train_removed\n",
        "    avg_word_count = pd.DataFrame({\n",
        "        'genre': y_train,\n",
        "        'word_count': word_count\n",
        "    }).groupby('genre').mean()\n",
        "\n",
        "    sns.barplot(x=avg_word_count.index, \n",
        "                y=avg_word_count['word_count'], \n",
        "                ax=axes[1], palette='viridis')\n",
        "    axes[1].set_title('Average Word Count per Genre')\n",
        "    axes[1].set_xlabel('Genres')\n",
        "    axes[1].set_ylabel('Average Word Count')\n",
        "\n",
        "    plt.tight_layout()\n",
        "    plt.show()"
      ]
    },
    {
      "cell_type": "markdown",
      "id": "6f8596b3",
      "metadata": {
        "id": "6f8596b3"
      },
      "source": [
        "# Feature extraction using count and TF-IDF vectorizers"
      ]
    },
    {
      "cell_type": "code",
      "execution_count": 301,
      "id": "Ds8p9Rm8iMmO",
      "metadata": {
        "id": "Ds8p9Rm8iMmO"
      },
      "outputs": [],
      "source": [
        "max_features = 10000\n",
        "ngram_range = (1, 3)\n",
        "\n",
        "count_vectorizer = CountVectorizer(\n",
        "    max_features=max_features,\n",
        "    ngram_range=ngram_range, stop_words='english')\n",
        "\n",
        "tfidf_vectorizer = TfidfVectorizer(\n",
        "    max_features=max_features,\n",
        "    ngram_range=ngram_range,\n",
        "    sublinear_tf=True,\n",
        "    norm='l2', stop_words='english')\n",
        "\n",
        "\n",
        "# Feature extraction function\n",
        "def extract_features(X_train, X_test, vectorizer, max_features, ngram_range):\n",
        "    X_train_vec = vectorizer.fit_transform(X_train)\n",
        "    X_test_vec = vectorizer.transform(X_test)\n",
        "    return X_train_vec, X_test_vec\n",
        "\n",
        "\n",
        "X_train_count, X_test_count = extract_features(X_train, X_test, count_vectorizer, max_features, ngram_range)\n",
        "X_train_tfidf, X_test_tfidf = extract_features(X_train, X_test, tfidf_vectorizer, max_features, ngram_range)"
      ]
    },
    {
      "cell_type": "code",
      "execution_count": 274,
      "id": "64f8b000",
      "metadata": {},
      "outputs": [
        {
          "data": {
            "text/plain": [
              "['models\\\\default\\\\tfidf_vectorizer.plk']"
            ]
          },
          "execution_count": 274,
          "metadata": {},
          "output_type": "execute_result"
        }
      ],
      "source": [
        "# Save vectorizers\n",
        "dump(count_vectorizer, f'{folder}count_vectorizer.plk')\n",
        "dump(tfidf_vectorizer, f'{folder}tfidf_vectorizer.plk')"
      ]
    },
    {
      "cell_type": "markdown",
      "id": "890dcfb3",
      "metadata": {
        "id": "890dcfb3"
      },
      "source": [
        "# Train SVM with hyperparameter tuning"
      ]
    },
    {
      "cell_type": "code",
      "execution_count": null,
      "id": "Su-q0Jpnk_CW",
      "metadata": {
        "id": "Su-q0Jpnk_CW"
      },
      "outputs": [],
      "source": [
        "#kernels = ['linear', 'poly', 'rbf', 'sigmoid', 'precomputed']"
      ]
    },
    {
      "cell_type": "code",
      "execution_count": 285,
      "id": "ZhUqV8chU2bA",
      "metadata": {
        "id": "ZhUqV8chU2bA"
      },
      "outputs": [],
      "source": [
        "def train_svm(X_train_vec, y_train):\n",
        "    param_grid = {\n",
        "        'C': [0.1, 1, 10],\n",
        "        'kernel': ['linear'],\n",
        "        'class_weight': ['balanced', None]\n",
        "    }\n",
        "    grid_search = GridSearchCV(SVC(), param_grid, cv=5, n_jobs=-1)\n",
        "    grid_search.fit(X_train_vec, y_train)\n",
        "    best_model = grid_search.best_estimator_\n",
        "    \n",
        "    print(f\"Best SVM Parameters: {grid_search.best_params_}\")\n",
        "    return best_model"
      ]
    },
    {
      "cell_type": "code",
      "execution_count": 302,
      "id": "6c285495",
      "metadata": {},
      "outputs": [
        {
          "name": "stdout",
          "output_type": "stream",
          "text": [
            "Best SVM Parameters: {'C': 0.1, 'class_weight': 'balanced', 'kernel': 'linear'}\n",
            "Best SVM Parameters: {'C': 1, 'class_weight': 'balanced', 'kernel': 'linear'}\n"
          ]
        }
      ],
      "source": [
        "# SVM training \n",
        "svm_count = train_svm(X_train_count, y_train)\n",
        "svm_tfidf = train_svm(X_train_tfidf, y_train)"
      ]
    },
    {
      "cell_type": "code",
      "execution_count": 272,
      "id": "Bw5jnzGc4q-P",
      "metadata": {
        "colab": {
          "base_uri": "https://localhost:8080/",
          "height": 304
        },
        "id": "Bw5jnzGc4q-P",
        "outputId": "314afa4b-692d-456e-e349-f5c68014fbca"
      },
      "outputs": [
        {
          "name": "stdout",
          "output_type": "stream",
          "text": [
            "Best SVM Parameters: {'C': 0.1, 'class_weight': 'balanced', 'kernel': 'linear'}\n",
            "Best SVM Parameters: {'C': 1, 'class_weight': 'balanced', 'kernel': 'linear'}\n"
          ]
        }
      ],
      "source": [
        "# Save SVM models\n",
        "model = f'{folder}svm\\\\'\n",
        "dump(svm_count, f'{model}svm_count.plk')\n",
        "dump(svm_tfidf, f'{model}svm_tfidf.plk')"
      ]
    },
    {
      "cell_type": "markdown",
      "id": "626081f0",
      "metadata": {},
      "source": [
        "# Train Multinomial NB with hyperparameter tuning"
      ]
    },
    {
      "cell_type": "code",
      "execution_count": 277,
      "id": "8b9a58fb",
      "metadata": {
        "id": "8b9a58fb"
      },
      "outputs": [],
      "source": [
        "# Train Multinomial NB with hyperparameter tuning\n",
        "def train_MultinomialNB(X_train, y_train):\n",
        "    param_grid = {\n",
        "        'alpha': [0.1, 0.5, 1.0, 1.5, 2.0],  # Smoothing parameter\n",
        "        'fit_prior': [True, False],           # Whether to learn class prior probabilities\n",
        "    }\n",
        "    \n",
        "    grid_search = GridSearchCV(MultinomialNB(), param_grid, cv=5, n_jobs=-1)\n",
        "    grid_search.fit(X_train, y_train)\n",
        "    \n",
        "    best_model = grid_search.best_estimator_\n",
        "    print(f\"Best Multinomial NB Parameters: {grid_search.best_params_}\")\n",
        "    \n",
        "    return best_model"
      ]
    },
    {
      "cell_type": "code",
      "execution_count": 303,
      "id": "76241b6a",
      "metadata": {},
      "outputs": [
        {
          "name": "stdout",
          "output_type": "stream",
          "text": [
            "Best Multinomial NB Parameters: {'alpha': 2.0, 'fit_prior': True}\n",
            "Best Multinomial NB Parameters: {'alpha': 0.5, 'fit_prior': False}\n"
          ]
        }
      ],
      "source": [
        "# MultinomialNB training \n",
        "MultinomialNB_count = train_MultinomialNB(X_train_count, y_train)\n",
        "MultinomialNB_tfidf = train_MultinomialNB(X_train_tfidf, y_train)"
      ]
    },
    {
      "cell_type": "code",
      "execution_count": 278,
      "id": "592f07e9",
      "metadata": {},
      "outputs": [
        {
          "name": "stdout",
          "output_type": "stream",
          "text": [
            "Best Multinomial NB Parameters: {'alpha': 2.0, 'fit_prior': True}\n",
            "Best Multinomial NB Parameters: {'alpha': 0.5, 'fit_prior': False}\n"
          ]
        },
        {
          "data": {
            "text/plain": [
              "['models\\\\default\\\\mnb\\\\mnb_tfidf.plk']"
            ]
          },
          "execution_count": 278,
          "metadata": {},
          "output_type": "execute_result"
        }
      ],
      "source": [
        "# Save MultinomialNB models\n",
        "model = f'{folder}mnb\\\\'\n",
        "dump(MultinomialNB_count, f'{model}mnb_count.plk')\n",
        "dump(MultinomialNB_tfidf, f'{model}mnb_tfidf.plk')"
      ]
    },
    {
      "cell_type": "markdown",
      "id": "c3aa49fd",
      "metadata": {},
      "source": [
        "# Train Gaussian NB with hyperparameter tuning"
      ]
    },
    {
      "cell_type": "code",
      "execution_count": 279,
      "id": "6950e1a3",
      "metadata": {},
      "outputs": [],
      "source": [
        "# Train Gaussian NB with hyperparameter tuning\n",
        "def train_GaussianNB(X_train, y_train):\n",
        "    param_grid = {\n",
        "        'var_smoothing': [1e-9, 1e-8, 1e-7, 1e-6, 1e-5]  # Smoothing parameter\n",
        "    }\n",
        "    \n",
        "    grid_search = GridSearchCV(GaussianNB(), param_grid, cv=5, n_jobs=-1)\n",
        "    grid_search.fit(X_train, y_train)\n",
        "    \n",
        "    best_model = grid_search.best_estimator_\n",
        "    print(f\"Best Gaussian NB Parameters: {grid_search.best_params_}\")\n",
        "    \n",
        "    return best_model"
      ]
    },
    {
      "cell_type": "code",
      "execution_count": 304,
      "id": "bc574315",
      "metadata": {},
      "outputs": [
        {
          "name": "stdout",
          "output_type": "stream",
          "text": [
            "Best Gaussian NB Parameters: {'var_smoothing': 1e-05}\n",
            "Best Gaussian NB Parameters: {'var_smoothing': 1e-05}\n"
          ]
        }
      ],
      "source": [
        "# Dense format conversion\n",
        "X_train_count_dense = X_train_count.toarray()\n",
        "X_train_tfidf_dense = X_train_tfidf.toarray()\n",
        "\n",
        "# GaussianNB training \n",
        "GaussianNB_count = train_GaussianNB(X_train_count_dense, y_train)\n",
        "GaussianNB_tfidf = train_GaussianNB(X_train_tfidf_dense, y_train)"
      ]
    },
    {
      "cell_type": "code",
      "execution_count": 280,
      "id": "4df08ece",
      "metadata": {},
      "outputs": [
        {
          "name": "stdout",
          "output_type": "stream",
          "text": [
            "Best Gaussian NB Parameters: {'var_smoothing': 1e-05}\n",
            "Best Gaussian NB Parameters: {'var_smoothing': 1e-05}\n"
          ]
        },
        {
          "data": {
            "text/plain": [
              "['models\\\\default\\\\gnb\\\\gnb_tfidf.plk']"
            ]
          },
          "execution_count": 280,
          "metadata": {},
          "output_type": "execute_result"
        }
      ],
      "source": [
        "# Save GaussianNB models\n",
        "model = f'{folder}gnb\\\\'\n",
        "dump(GaussianNB_count, f'{model}gnb_count.plk')\n",
        "dump(GaussianNB_tfidf, f'{model}gnb_tfidf.plk')"
      ]
    },
    {
      "cell_type": "markdown",
      "id": "9725a0f3",
      "metadata": {
        "id": "9725a0f3"
      },
      "source": [
        "# Evaluate the model"
      ]
    },
    {
      "cell_type": "code",
      "execution_count": 289,
      "id": "bccef53b",
      "metadata": {
        "id": "bccef53b"
      },
      "outputs": [],
      "source": [
        "def evaluate_model(model, X_test_tfidf, y_test):\n",
        "    predictions = model.predict(X_test_tfidf)\n",
        "    accuracy = accuracy_score(y_test, predictions)\n",
        "    report = classification_report(y_test, predictions)\n",
        "    cm = confusion_matrix(y_test, predictions)\n",
        "    return accuracy, cm, report\n"
      ]
    },
    {
      "cell_type": "code",
      "execution_count": 305,
      "id": "502924c1",
      "metadata": {},
      "outputs": [],
      "source": [
        "# Dense format conversion\n",
        "X_test_count_dense = X_test_count.toarray()\n",
        "X_test_tfidf_dense = X_test_tfidf.toarray()"
      ]
    },
    {
      "cell_type": "code",
      "execution_count": 306,
      "id": "0c5a0f9e",
      "metadata": {},
      "outputs": [
        {
          "name": "stdout",
          "output_type": "stream",
          "text": [
            "Accuracy SVM_count: 59.75%\n",
            "Accuracy SVM_tfidf: 68.82%\n",
            "\n",
            "Accuracy MultinomialNB_count: 63.73%\n",
            "Accuracy MultinomialNB_tfidf: 65.47%\n",
            "\n",
            "Accuracy GaussianNB_count: 42.48%\n",
            "Accuracy GaussianNB_tfidf: 43.23%\n"
          ]
        }
      ],
      "source": [
        "accuracy_svm_count = evaluate_model(svm_count, X_test_count, y_test)[0]\n",
        "print(f\"Accuracy SVM_count: {accuracy_svm_count * 100:.2f}%\")\n",
        "accuracy_svm_tfidf = evaluate_model(svm_tfidf, X_test_tfidf, y_test)[0]\n",
        "print(f\"Accuracy SVM_tfidf: {accuracy_svm_tfidf * 100:.2f}%\")\n",
        "\n",
        "accuracy_mnb_count = evaluate_model(MultinomialNB_count, X_test_count, y_test)[0]\n",
        "print(f\"\\nAccuracy MultinomialNB_count: {accuracy_mnb_count * 100:.2f}%\")\n",
        "accuracy_mnb_tfidf = evaluate_model(MultinomialNB_tfidf, X_test_tfidf, y_test)[0]\n",
        "print(f\"Accuracy MultinomialNB_tfidf: {accuracy_mnb_tfidf * 100:.2f}%\")\n",
        "\n",
        "accuracy_gnb_count = evaluate_model(GaussianNB_count, X_test_count_dense, y_test)[0]\n",
        "print(f\"\\nAccuracy GaussianNB_count: {accuracy_gnb_count * 100:.2f}%\")\n",
        "accuracy_gnb_tfidf = evaluate_model(GaussianNB_tfidf, X_test_tfidf_dense, y_test)[0]\n",
        "print(f\"Accuracy GaussianNB_tfidf: {accuracy_gnb_tfidf * 100:.2f}%\")"
      ]
    },
    {
      "cell_type": "markdown",
      "id": "3701949e",
      "metadata": {
        "id": "3701949e"
      },
      "source": [
        "# Load the model and vectorizer"
      ]
    },
    {
      "cell_type": "code",
      "execution_count": 307,
      "id": "343e0f65",
      "metadata": {
        "id": "343e0f65"
      },
      "outputs": [],
      "source": [
        "def load_model(model_path, vectorizer_path, label_encoder_path):\n",
        "    model = load(model_path)\n",
        "    vectorizer = load(vectorizer_path)\n",
        "    label_encoder = load(label_encoder_path)\n",
        "    return model, vectorizer, label_encoder"
      ]
    },
    {
      "cell_type": "code",
      "execution_count": 315,
      "id": "a1b3c420",
      "metadata": {},
      "outputs": [
        {
          "name": "stdout",
          "output_type": "stream",
          "text": [
            "best model accuracy : 70.19%\n"
          ]
        }
      ],
      "source": [
        "best_model_path = f'{folder}svm\\\\svm_tfidf.plk'\n",
        "vectorizer_path = f'{folder}tfidf_vectorizer.plk'\n",
        "label_encoder_path = f'{folder}label_encoder.plk'\n",
        "\n",
        "model, vectorizer, label_encoder = load_model (best_model_path, vectorizer_path, label_encoder_path)\n",
        "X_test_vec = vectorizer.transform(X_test)\n",
        "svm_accuracy, svm_cm, svm_report = evaluate_model(model, X_test_vec, y_test)\n",
        "print(f'best model accuracy : {svm_accuracy*100:.2f}%')"
      ]
    },
    {
      "cell_type": "markdown",
      "id": "54d25897",
      "metadata": {
        "id": "54d25897"
      },
      "source": [
        "# Predict the genre for new movie plots"
      ]
    },
    {
      "cell_type": "code",
      "execution_count": 316,
      "id": "083e8e35",
      "metadata": {
        "id": "083e8e35"
      },
      "outputs": [],
      "source": [
        "def predict_genre(model, vectorizer, label_encoder, input_file, output_file, lemmatize, stopwords, combine_fields):\n",
        "    data = pd.read_csv(input_file, sep='\\t', names=['title', 'from', 'director', 'plot'])\n",
        "    data = preprocess_data(data, lemmatize, stopwords, combine_fields)\n",
        "    plots = data['combined_text']\n",
        "    plot_vectors = vectorizer.transform(plots)\n",
        "    predicted_genres_encoded = model.predict(plot_vectors)\n",
        "    predicted_genres = label_encoder.inverse_transform(predicted_genres_encoded)\n",
        "\n",
        "    # Save the results to a file\n",
        "    data['genre'] = predicted_genres\n",
        "    data[['title', 'from', 'director', 'plot', 'genre']].to_csv(output_file, sep='\\t', index=False)\n"
      ]
    },
    {
      "cell_type": "code",
      "execution_count": null,
      "id": "8f4f93fe",
      "metadata": {},
      "outputs": [],
      "source": []
    }
  ],
  "metadata": {
    "colab": {
      "provenance": []
    },
    "kernelspec": {
      "display_name": "LN (.venv)",
      "language": "python",
      "name": ".venv"
    },
    "language_info": {
      "codemirror_mode": {
        "name": "ipython",
        "version": 3
      },
      "file_extension": ".py",
      "mimetype": "text/x-python",
      "name": "python",
      "nbconvert_exporter": "python",
      "pygments_lexer": "ipython3",
      "version": "3.11.9"
    }
  },
  "nbformat": 4,
  "nbformat_minor": 5
}
