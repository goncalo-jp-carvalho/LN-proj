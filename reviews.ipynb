{
  "cells": [
    {
      "cell_type": "markdown",
      "id": "86851af7",
      "metadata": {
        "id": "86851af7"
      },
      "source": [
        "## Import the required libraries"
      ]
    },
    {
      "cell_type": "code",
      "execution_count": 1,
      "id": "yzT6k3QFbUte",
      "metadata": {
        "colab": {
          "base_uri": "https://localhost:8080/"
        },
        "id": "yzT6k3QFbUte",
        "outputId": "a03fed1c-d0b9-4ad4-e252-8aa2e4d64b38"
      },
      "outputs": [
        {
          "name": "stdout",
          "output_type": "stream",
          "text": [
            "Note: you may need to restart the kernel to use updated packages.\n",
            "Note: you may need to restart the kernel to use updated packages.\n"
          ]
        }
      ],
      "source": [
        "%pip install contractions -q\n",
        "%pip install nlpaug -q"
      ]
    },
    {
      "cell_type": "code",
      "execution_count": 2,
      "id": "b8724e65",
      "metadata": {
        "colab": {
          "base_uri": "https://localhost:8080/"
        },
        "id": "b8724e65",
        "outputId": "a0331e65-3e88-436b-af8a-355f22a92293"
      },
      "outputs": [
        {
          "data": {
            "text/plain": [
              "True"
            ]
          },
          "execution_count": 2,
          "metadata": {},
          "output_type": "execute_result"
        }
      ],
      "source": [
        "# Standard library imports\n",
        "from re import sub\n",
        "from numpy import unique\n",
        "from random import seed\n",
        "\n",
        "# Third-party libraries\n",
        "from contractions import fix\n",
        "from pandas import DataFrame, read_csv, Series\n",
        "from joblib import dump, load\n",
        "import nltk\n",
        "from nltk import download\n",
        "from nltk.corpus import wordnet, stopwords\n",
        "from nltk.stem import WordNetLemmatizer\n",
        "from sklearn.feature_extraction.text import TfidfVectorizer, CountVectorizer\n",
        "from sklearn.metrics import accuracy_score, classification_report, confusion_matrix\n",
        "from sklearn.model_selection import GridSearchCV, train_test_split\n",
        "from sklearn.preprocessing import LabelEncoder\n",
        "from sklearn.svm import SVC\n",
        "from sklearn.naive_bayes import MultinomialNB\n",
        "import nlpaug.augmenter.word as naw\n",
        "from os import makedirs\n",
        "import matplotlib.pyplot as plt\n",
        "import seaborn as sns\n",
        "\n",
        "# NLTK downloads\n",
        "download('punkt', quiet=True)\n",
        "download('stopwords', quiet=True)\n",
        "download('wordnet', quiet=True)\n",
        "download('averaged_perceptron_tagger', quiet=True)"
      ]
    },
    {
      "cell_type": "markdown",
      "id": "04151caf",
      "metadata": {
        "id": "04151caf"
      },
      "source": [
        "## Define the hyper-parameters"
      ]
    },
    {
      "cell_type": "code",
      "execution_count": 3,
      "id": "9fdbd40b",
      "metadata": {
        "id": "9fdbd40b"
      },
      "outputs": [],
      "source": [
        "# Regular hyperparameters\n",
        "lemmatize = True\n",
        "stop_words = set(stopwords.words('english'))\n",
        "max_features = 10000\n",
        "\n",
        "# Fine-tuning hyperparameters\n",
        "combine_fields = ['from', 'director', 'title']\n",
        "threshold = 0.00\n",
        "ngram_range = (1, 5)\n",
        "\n",
        "# File paths\n",
        "base = f'models/plot/{str(combine_fields)}_{int(threshold * 100)}_{str(ngram_range)}'\n",
        "makedirs(base, exist_ok=True)\n",
        "\n",
        "train_path = 'train.txt'\n",
        "test_path = 'test_no_labels.txt'\n",
        "output_path = 'results.txt'\n",
        "label_encoder_path = f'{base}/label_encoder.plk'\n",
        "vectorizer_path = f'{base}/vectorizer.plk'\n",
        "svm_path = f'{base}/svm.plk'\n",
        "mnb_path = f'{base}/mnb.plk'"
      ]
    },
    {
      "cell_type": "markdown",
      "id": "bIYF332EU8zt",
      "metadata": {
        "id": "bIYF332EU8zt"
      },
      "source": [
        "## Load data"
      ]
    },
    {
      "cell_type": "code",
      "execution_count": 4,
      "id": "VLJfiPFfU42E",
      "metadata": {
        "id": "VLJfiPFfU42E"
      },
      "outputs": [],
      "source": [
        "# Load data\n",
        "def load_data():\n",
        "    data = read_csv(train_path, sep='\\t', names=['title', 'from', 'genre', 'director', 'plot'])\n",
        "    return data"
      ]
    },
    {
      "cell_type": "code",
      "execution_count": 5,
      "id": "J7nx_vn7VDpN",
      "metadata": {
        "colab": {
          "base_uri": "https://localhost:8080/",
          "height": 206
        },
        "id": "J7nx_vn7VDpN",
        "outputId": "fdca7d80-9e63-4fbf-986b-4a7eb6769599"
      },
      "outputs": [
        {
          "data": {
            "text/html": [
              "<div>\n",
              "<style scoped>\n",
              "    .dataframe tbody tr th:only-of-type {\n",
              "        vertical-align: middle;\n",
              "    }\n",
              "\n",
              "    .dataframe tbody tr th {\n",
              "        vertical-align: top;\n",
              "    }\n",
              "\n",
              "    .dataframe thead th {\n",
              "        text-align: right;\n",
              "    }\n",
              "</style>\n",
              "<table border=\"1\" class=\"dataframe\">\n",
              "  <thead>\n",
              "    <tr style=\"text-align: right;\">\n",
              "      <th></th>\n",
              "      <th>title</th>\n",
              "      <th>from</th>\n",
              "      <th>genre</th>\n",
              "      <th>director</th>\n",
              "      <th>plot</th>\n",
              "    </tr>\n",
              "  </thead>\n",
              "  <tbody>\n",
              "    <tr>\n",
              "      <th>0</th>\n",
              "      <td>Ela Cheppanu</td>\n",
              "      <td>Telugu</td>\n",
              "      <td>romance</td>\n",
              "      <td>Ramana</td>\n",
              "      <td>Sekhar (Tarun) is a graduate from IIM and work...</td>\n",
              "    </tr>\n",
              "    <tr>\n",
              "      <th>1</th>\n",
              "      <td>A Nightmare on Elm Street</td>\n",
              "      <td>American</td>\n",
              "      <td>horror</td>\n",
              "      <td>Samuel Bayer</td>\n",
              "      <td>Kris Fowles (Katie Cassidy) goes to the Spring...</td>\n",
              "    </tr>\n",
              "    <tr>\n",
              "      <th>2</th>\n",
              "      <td>American Gothic</td>\n",
              "      <td>American</td>\n",
              "      <td>horror</td>\n",
              "      <td>John Hough</td>\n",
              "      <td>Cynthia is traumatized by the death of her bab...</td>\n",
              "    </tr>\n",
              "    <tr>\n",
              "      <th>3</th>\n",
              "      <td>Gang</td>\n",
              "      <td>Bollywood</td>\n",
              "      <td>crime</td>\n",
              "      <td>Mazhar Khan</td>\n",
              "      <td>Four friends, Gangu (Jackie Shroff), Abdul (Na...</td>\n",
              "    </tr>\n",
              "    <tr>\n",
              "      <th>4</th>\n",
              "      <td>Intimate Relations</td>\n",
              "      <td>British</td>\n",
              "      <td>drama</td>\n",
              "      <td>Charles Frank</td>\n",
              "      <td>Crisis in a middle-class family when the son f...</td>\n",
              "    </tr>\n",
              "  </tbody>\n",
              "</table>\n",
              "</div>"
            ],
            "text/plain": [
              "                       title       from    genre       director  \\\n",
              "0               Ela Cheppanu     Telugu  romance         Ramana   \n",
              "1  A Nightmare on Elm Street   American   horror   Samuel Bayer   \n",
              "2            American Gothic   American   horror     John Hough   \n",
              "3                       Gang  Bollywood    crime    Mazhar Khan   \n",
              "4         Intimate Relations    British    drama  Charles Frank   \n",
              "\n",
              "                                                plot  \n",
              "0  Sekhar (Tarun) is a graduate from IIM and work...  \n",
              "1  Kris Fowles (Katie Cassidy) goes to the Spring...  \n",
              "2  Cynthia is traumatized by the death of her bab...  \n",
              "3  Four friends, Gangu (Jackie Shroff), Abdul (Na...  \n",
              "4  Crisis in a middle-class family when the son f...  "
            ]
          },
          "execution_count": 5,
          "metadata": {},
          "output_type": "execute_result"
        }
      ],
      "source": [
        "data = load_data()\n",
        "data_copy = load_data()\n",
        "data.head()"
      ]
    },
    {
      "cell_type": "markdown",
      "id": "a9bf5982",
      "metadata": {
        "id": "a9bf5982"
      },
      "source": [
        "### Combine fields"
      ]
    },
    {
      "cell_type": "code",
      "execution_count": 6,
      "id": "1cecc147",
      "metadata": {
        "id": "1cecc147"
      },
      "outputs": [],
      "source": [
        "# Combine fields\n",
        "def combine():\n",
        "    # Extract relevant columns (plot, combine_fields, genre)\n",
        "    selected_fields = ['plot'] + combine_fields\n",
        "    if 'genre' in data.columns:\n",
        "        selected_fields.append('genre')\n",
        "    combined_data = data[selected_fields].copy()\n",
        "\n",
        "    # Handle missing values: drop rows with missing 'plot', fill missing combine_fields with ''\n",
        "    combined_data.dropna(subset=['plot'], inplace=True)  # Ensure 'plot' is not NaN\n",
        "    for field in combine_fields:\n",
        "        combined_data[field] = combined_data[field].fillna('')  # Replace NaN in combine_fields with empty strings\n",
        "\n",
        "    # Combine plot and other specified fields into a single feature\n",
        "    combined_data['combined_text'] = combined_data['plot']\n",
        "    for field in combine_fields:\n",
        "        combined_data['combined_text'] += ' ' + combined_data[field]\n",
        "\n",
        "    return combined_data"
      ]
    },
    {
      "cell_type": "code",
      "execution_count": 7,
      "id": "4e905fb6",
      "metadata": {
        "colab": {
          "base_uri": "https://localhost:8080/",
          "height": 206
        },
        "id": "4e905fb6",
        "outputId": "20747f50-4d67-4882-9c69-5762878e1392"
      },
      "outputs": [
        {
          "data": {
            "text/html": [
              "<div>\n",
              "<style scoped>\n",
              "    .dataframe tbody tr th:only-of-type {\n",
              "        vertical-align: middle;\n",
              "    }\n",
              "\n",
              "    .dataframe tbody tr th {\n",
              "        vertical-align: top;\n",
              "    }\n",
              "\n",
              "    .dataframe thead th {\n",
              "        text-align: right;\n",
              "    }\n",
              "</style>\n",
              "<table border=\"1\" class=\"dataframe\">\n",
              "  <thead>\n",
              "    <tr style=\"text-align: right;\">\n",
              "      <th></th>\n",
              "      <th>plot</th>\n",
              "      <th>from</th>\n",
              "      <th>director</th>\n",
              "      <th>title</th>\n",
              "      <th>genre</th>\n",
              "      <th>combined_text</th>\n",
              "    </tr>\n",
              "  </thead>\n",
              "  <tbody>\n",
              "    <tr>\n",
              "      <th>0</th>\n",
              "      <td>Sekhar (Tarun) is a graduate from IIM and work...</td>\n",
              "      <td>Telugu</td>\n",
              "      <td>Ramana</td>\n",
              "      <td>Ela Cheppanu</td>\n",
              "      <td>romance</td>\n",
              "      <td>Sekhar (Tarun) is a graduate from IIM and work...</td>\n",
              "    </tr>\n",
              "    <tr>\n",
              "      <th>1</th>\n",
              "      <td>Kris Fowles (Katie Cassidy) goes to the Spring...</td>\n",
              "      <td>American</td>\n",
              "      <td>Samuel Bayer</td>\n",
              "      <td>A Nightmare on Elm Street</td>\n",
              "      <td>horror</td>\n",
              "      <td>Kris Fowles (Katie Cassidy) goes to the Spring...</td>\n",
              "    </tr>\n",
              "    <tr>\n",
              "      <th>2</th>\n",
              "      <td>Cynthia is traumatized by the death of her bab...</td>\n",
              "      <td>American</td>\n",
              "      <td>John Hough</td>\n",
              "      <td>American Gothic</td>\n",
              "      <td>horror</td>\n",
              "      <td>Cynthia is traumatized by the death of her bab...</td>\n",
              "    </tr>\n",
              "    <tr>\n",
              "      <th>3</th>\n",
              "      <td>Four friends, Gangu (Jackie Shroff), Abdul (Na...</td>\n",
              "      <td>Bollywood</td>\n",
              "      <td>Mazhar Khan</td>\n",
              "      <td>Gang</td>\n",
              "      <td>crime</td>\n",
              "      <td>Four friends, Gangu (Jackie Shroff), Abdul (Na...</td>\n",
              "    </tr>\n",
              "    <tr>\n",
              "      <th>4</th>\n",
              "      <td>Crisis in a middle-class family when the son f...</td>\n",
              "      <td>British</td>\n",
              "      <td>Charles Frank</td>\n",
              "      <td>Intimate Relations</td>\n",
              "      <td>drama</td>\n",
              "      <td>Crisis in a middle-class family when the son f...</td>\n",
              "    </tr>\n",
              "  </tbody>\n",
              "</table>\n",
              "</div>"
            ],
            "text/plain": [
              "                                                plot       from  \\\n",
              "0  Sekhar (Tarun) is a graduate from IIM and work...     Telugu   \n",
              "1  Kris Fowles (Katie Cassidy) goes to the Spring...   American   \n",
              "2  Cynthia is traumatized by the death of her bab...   American   \n",
              "3  Four friends, Gangu (Jackie Shroff), Abdul (Na...  Bollywood   \n",
              "4  Crisis in a middle-class family when the son f...    British   \n",
              "\n",
              "        director                      title    genre  \\\n",
              "0         Ramana               Ela Cheppanu  romance   \n",
              "1   Samuel Bayer  A Nightmare on Elm Street   horror   \n",
              "2     John Hough            American Gothic   horror   \n",
              "3    Mazhar Khan                       Gang    crime   \n",
              "4  Charles Frank         Intimate Relations    drama   \n",
              "\n",
              "                                       combined_text  \n",
              "0  Sekhar (Tarun) is a graduate from IIM and work...  \n",
              "1  Kris Fowles (Katie Cassidy) goes to the Spring...  \n",
              "2  Cynthia is traumatized by the death of her bab...  \n",
              "3  Four friends, Gangu (Jackie Shroff), Abdul (Na...  \n",
              "4  Crisis in a middle-class family when the son f...  "
            ]
          },
          "execution_count": 7,
          "metadata": {},
          "output_type": "execute_result"
        }
      ],
      "source": [
        "data = combine()\n",
        "data.head()"
      ]
    },
    {
      "cell_type": "markdown",
      "id": "d790b14e",
      "metadata": {
        "id": "d790b14e"
      },
      "source": [
        "## Split data into training and test sets"
      ]
    },
    {
      "cell_type": "code",
      "execution_count": 8,
      "id": "4321a460",
      "metadata": {
        "id": "4321a460"
      },
      "outputs": [],
      "source": [
        "# Split data into training and test sets\n",
        "'''def split_data():\n",
        "    X = data['combined_text']\n",
        "    y = data['genre']\n",
        "    # Encode labels\n",
        "    label_encoder = LabelEncoder()\n",
        "    y_encoded = label_encoder.fit_transform(y)\n",
        "    X_train, X_test, y_train, y_test = train_test_split(X, y_encoded, test_size=0.1, random_state=42, stratify=y_encoded)\n",
        "    return X_train, X_test, y_train, y_test, label_encoder'''\n",
        "\n",
        "def split_data():\n",
        "    X = data['combined_text']  # Assuming 'combined_text' is your features (plots)\n",
        "    y = data['genre']          # Assuming 'genre' is your target variable\n",
        "    # Encode labels\n",
        "    label_encoder = LabelEncoder()\n",
        "    y_encoded = label_encoder.fit_transform(y)\n",
        "\n",
        "    # Perform train/test split while returning the indices of the test set\n",
        "    X_train, X_test, y_train, y_test, train_indices, test_indices = train_test_split(\n",
        "        X, y_encoded, data.index, test_size=0.1, random_state=42, stratify=y_encoded\n",
        "    )\n",
        "\n",
        "    return X_train, X_test, y_train, y_test, label_encoder, test_indices"
      ]
    },
    {
      "cell_type": "code",
      "execution_count": 9,
      "id": "e7cb30b5",
      "metadata": {
        "colab": {
          "base_uri": "https://localhost:8080/"
        },
        "id": "e7cb30b5",
        "outputId": "64145a43-a8a8-4aec-97f5-1899b7b64ca4"
      },
      "outputs": [
        {
          "data": {
            "text/plain": [
              "array(['action', 'animation', 'comedy', 'crime', 'drama', 'horror',\n",
              "       'romance', 'sci-fi', 'western'], dtype=object)"
            ]
          },
          "execution_count": 9,
          "metadata": {},
          "output_type": "execute_result"
        }
      ],
      "source": [
        "X_train, X_test, y_train, y_test, label_encoder,test_indices = split_data()\n",
        "label_encoder.classes_"
      ]
    },
    {
      "cell_type": "code",
      "execution_count": 10,
      "id": "a75def83",
      "metadata": {
        "colab": {
          "base_uri": "https://localhost:8080/"
        },
        "id": "a75def83",
        "outputId": "4e238452-1e73-442a-98a4-bb483ac04f1b"
      },
      "outputs": [
        {
          "data": {
            "text/plain": [
              "[\"models/plot/['from', 'director', 'title']_0_(1, 5)/label_encoder.plk\"]"
            ]
          },
          "execution_count": 10,
          "metadata": {},
          "output_type": "execute_result"
        }
      ],
      "source": [
        "# Save label encoder\n",
        "dump(label_encoder, label_encoder_path)"
      ]
    },
    {
      "cell_type": "markdown",
      "id": "e0c3e702",
      "metadata": {
        "id": "e0c3e702"
      },
      "source": [
        "## Data augmentation"
      ]
    },
    {
      "cell_type": "code",
      "execution_count": 11,
      "id": "013fad26",
      "metadata": {
        "colab": {
          "base_uri": "https://localhost:8080/",
          "height": 206
        },
        "id": "013fad26",
        "outputId": "e541c99f-a932-492f-9122-d0c19dc9d8b6"
      },
      "outputs": [
        {
          "data": {
            "text/html": [
              "<div>\n",
              "<style scoped>\n",
              "    .dataframe tbody tr th:only-of-type {\n",
              "        vertical-align: middle;\n",
              "    }\n",
              "\n",
              "    .dataframe tbody tr th {\n",
              "        vertical-align: top;\n",
              "    }\n",
              "\n",
              "    .dataframe thead th {\n",
              "        text-align: right;\n",
              "    }\n",
              "</style>\n",
              "<table border=\"1\" class=\"dataframe\">\n",
              "  <thead>\n",
              "    <tr style=\"text-align: right;\">\n",
              "      <th></th>\n",
              "      <th>text</th>\n",
              "      <th>genre</th>\n",
              "    </tr>\n",
              "  </thead>\n",
              "  <tbody>\n",
              "    <tr>\n",
              "      <th>0</th>\n",
              "      <td>In the near future,[3] Lunar Industries has ma...</td>\n",
              "      <td>7</td>\n",
              "    </tr>\n",
              "    <tr>\n",
              "      <th>1</th>\n",
              "      <td>The plot follows a disgruntled scientist who, ...</td>\n",
              "      <td>7</td>\n",
              "    </tr>\n",
              "    <tr>\n",
              "      <th>2</th>\n",
              "      <td>Set inside a Quake like video game, one of the...</td>\n",
              "      <td>7</td>\n",
              "    </tr>\n",
              "    <tr>\n",
              "      <th>3</th>\n",
              "      <td>Dr. Maxwell Kirshner (Ray Milland) arrives at ...</td>\n",
              "      <td>7</td>\n",
              "    </tr>\n",
              "    <tr>\n",
              "      <th>4</th>\n",
              "      <td>On November 5, 1975 in Snowflake, Arizona, log...</td>\n",
              "      <td>7</td>\n",
              "    </tr>\n",
              "  </tbody>\n",
              "</table>\n",
              "</div>"
            ],
            "text/plain": [
              "                                                text  genre\n",
              "0  In the near future,[3] Lunar Industries has ma...      7\n",
              "1  The plot follows a disgruntled scientist who, ...      7\n",
              "2  Set inside a Quake like video game, one of the...      7\n",
              "3  Dr. Maxwell Kirshner (Ray Milland) arrives at ...      7\n",
              "4  On November 5, 1975 in Snowflake, Arizona, log...      7"
            ]
          },
          "execution_count": 11,
          "metadata": {},
          "output_type": "execute_result"
        }
      ],
      "source": [
        "data = DataFrame({'combined_text': X_train, 'genre': y_train})\n",
        "\n",
        "# Initialize the seed\n",
        "seed(42)\n",
        "\n",
        "# Initialize the SynonymAugmenter\n",
        "aug = naw.SynonymAug(aug_src='wordnet', aug_max=30)\n",
        "augments_encoded = label_encoder.transform(['sci-fi', 'animation', 'crime'])\n",
        "\n",
        "# Define augmentation settings for each genre\n",
        "augmentation_config = {\n",
        "    augments_encoded[0]: 3,    # Augment 3 times\n",
        "    augments_encoded[1]: 1, # Augment 1 time\n",
        "    augments_encoded[2]: 1,     # Augment 1 time\n",
        "}\n",
        "\n",
        "# Not augmenting the remaining genre\n",
        "for genre in unique(y_train):\n",
        "    if genre not in augmentation_config:\n",
        "        augmentation_config[genre] = 0  # Default to augmenting once\n",
        "\n",
        "# List to hold original and augmented text along with their genres\n",
        "all_texts = []\n",
        "all_genres = []\n",
        "\n",
        "# Loop through each genre and apply the augmentation as needed\n",
        "for genre, n in augmentation_config.items():\n",
        "    genre_data = data[data['genre'] == genre].copy()\n",
        "\n",
        "    # Add original texts and genres to the lists\n",
        "    all_texts.extend(genre_data['combined_text'].tolist())\n",
        "    all_genres.extend([genre] * len(genre_data))  # Repeat the genre for the number of rows\n",
        "\n",
        "    # Apply augmentation if n > 0\n",
        "    if n > 0:\n",
        "        augmented_texts = genre_data['combined_text'].apply(lambda x: aug.augment(x, n=n))\n",
        "        # Flatten the lists of augmented texts\n",
        "        augmented_texts = augmented_texts.explode().tolist()\n",
        "        # Add augmented texts and genres to the lists\n",
        "        all_texts.extend(augmented_texts)\n",
        "        all_genres.extend([genre] * len(augmented_texts))  # Repeat the genre for the number of augmented rows\n",
        "\n",
        "# Create a DataFrame with the text and genre columns\n",
        "data = DataFrame({'text': all_texts, 'genre': all_genres})\n",
        "\n",
        "data.head()"
      ]
    },
    {
      "cell_type": "markdown",
      "id": "3cb7de66",
      "metadata": {
        "id": "3cb7de66"
      },
      "source": [
        "## Clean the text"
      ]
    },
    {
      "cell_type": "code",
      "execution_count": 12,
      "id": "d6d2e2e1",
      "metadata": {
        "id": "d6d2e2e1"
      },
      "outputs": [],
      "source": [
        "# Clean the text\n",
        "def clean_text(text):\n",
        "    # Check if the text is a non-empty string\n",
        "    if not isinstance(text, str) or not text.strip():\n",
        "        return ''\n",
        "\n",
        "    # Skip applying contractions if the text is too long or complex\n",
        "    if len(text) > 500:  # Threshold to skip contraction expansion for long texts\n",
        "        return text\n",
        "\n",
        "    # Try expanding contractions safely\n",
        "    try:\n",
        "        text = fix(text)\n",
        "    except Exception as e:\n",
        "        print(f\"Error expanding contractions: {e}, for text: {text[:100]}...\")  # Only print the first 100 characters\n",
        "        return text  # Return the original text if expansion fails\n",
        "\n",
        "    # Remove special characters and digits\n",
        "    text = sub(r'[^a-zA-Z\\s]', '', text)\n",
        "\n",
        "    return text"
      ]
    },
    {
      "cell_type": "markdown",
      "id": "6c0c444d",
      "metadata": {
        "id": "6c0c444d"
      },
      "source": [
        "## Function to convert nltk POS tag to wordnet POS tag"
      ]
    },
    {
      "cell_type": "code",
      "execution_count": 13,
      "id": "450a9c24",
      "metadata": {
        "id": "450a9c24"
      },
      "outputs": [],
      "source": [
        "# Function to convert nltk POS tag to wordnet POS tag\n",
        "def get_wordnet_pos(tag):\n",
        "    if tag.startswith('J'):\n",
        "        return wordnet.ADJ  # Adjective\n",
        "    elif tag.startswith('V'):\n",
        "        return wordnet.VERB  # Verb\n",
        "    elif tag.startswith('N'):\n",
        "        return wordnet.NOUN  # Noun\n",
        "    elif tag.startswith('R'):\n",
        "        return wordnet.ADV  # Adverb\n",
        "    else:\n",
        "        return wordnet.NOUN  # Default to noun"
      ]
    },
    {
      "cell_type": "markdown",
      "id": "663b118d",
      "metadata": {
        "id": "663b118d"
      },
      "source": [
        "## Lemmatize the text"
      ]
    },
    {
      "cell_type": "code",
      "execution_count": 14,
      "id": "9e6b0e8c",
      "metadata": {
        "id": "9e6b0e8c"
      },
      "outputs": [],
      "source": [
        "# Function to lemmatize text\n",
        "def lemmatize_text(text):\n",
        "    lemmatizer = WordNetLemmatizer()\n",
        "    # Tokenize the text\n",
        "    tokens = nltk.word_tokenize(text.lower())\n",
        "    # Remove non-alphabetic tokens\n",
        "    tokens = [word for word in tokens if word.isalpha()]\n",
        "    # Perform POS tagging\n",
        "    tagged_tokens = nltk.pos_tag(tokens)\n",
        "    # Lemmatize each token using the POS tag\n",
        "    lemmatized_tokens = [lemmatizer.lemmatize(word, get_wordnet_pos(pos)) for word, pos in tagged_tokens]\n",
        "    return ' '.join(lemmatized_tokens)"
      ]
    },
    {
      "cell_type": "code",
      "execution_count": 15,
      "id": "e996e5b6",
      "metadata": {
        "id": "e996e5b6"
      },
      "outputs": [],
      "source": [
        "# Genre words to remove from the data\n",
        "genres = ['horror', 'crime', 'action', 'comedy', 'animation', 'western']"
      ]
    },
    {
      "cell_type": "markdown",
      "id": "18de5503",
      "metadata": {
        "id": "18de5503"
      },
      "source": [
        "## Preprocess the data"
      ]
    },
    {
      "cell_type": "code",
      "execution_count": 16,
      "id": "8f742ce4",
      "metadata": {
        "id": "8f742ce4"
      },
      "outputs": [],
      "source": [
        "# Preprocess the data without stop words\n",
        "def preprocess_data(df):\n",
        "    # Clean the text\n",
        "    df['text'] = df['text'].apply(clean_text)\n",
        "    # Apply lemmatization if specified\n",
        "    if lemmatize:\n",
        "        df['text'] = df['text'].apply(lemmatize_text)\n",
        "\n",
        "    return df"
      ]
    },
    {
      "cell_type": "code",
      "execution_count": 17,
      "id": "440ebf70",
      "metadata": {
        "colab": {
          "base_uri": "https://localhost:8080/",
          "height": 206
        },
        "id": "440ebf70",
        "outputId": "c11af89b-2747-4e27-9c72-2806b735f5e8"
      },
      "outputs": [
        {
          "data": {
            "text/html": [
              "<div>\n",
              "<style scoped>\n",
              "    .dataframe tbody tr th:only-of-type {\n",
              "        vertical-align: middle;\n",
              "    }\n",
              "\n",
              "    .dataframe tbody tr th {\n",
              "        vertical-align: top;\n",
              "    }\n",
              "\n",
              "    .dataframe thead th {\n",
              "        text-align: right;\n",
              "    }\n",
              "</style>\n",
              "<table border=\"1\" class=\"dataframe\">\n",
              "  <thead>\n",
              "    <tr style=\"text-align: right;\">\n",
              "      <th></th>\n",
              "      <th>text</th>\n",
              "      <th>genre</th>\n",
              "    </tr>\n",
              "  </thead>\n",
              "  <tbody>\n",
              "    <tr>\n",
              "      <th>0</th>\n",
              "      <td>in the near future lunar industry have make a ...</td>\n",
              "      <td>7</td>\n",
              "    </tr>\n",
              "    <tr>\n",
              "      <th>1</th>\n",
              "      <td>the plot follow a disgruntled scientist who ha...</td>\n",
              "      <td>7</td>\n",
              "    </tr>\n",
              "    <tr>\n",
              "      <th>2</th>\n",
              "      <td>set inside a quake like video game one of the ...</td>\n",
              "      <td>7</td>\n",
              "    </tr>\n",
              "    <tr>\n",
              "      <th>3</th>\n",
              "      <td>maxwell kirshner ray milland arrive at a mansi...</td>\n",
              "      <td>7</td>\n",
              "    </tr>\n",
              "    <tr>\n",
              "      <th>4</th>\n",
              "      <td>on november in snowflake arizona logger travis...</td>\n",
              "      <td>7</td>\n",
              "    </tr>\n",
              "  </tbody>\n",
              "</table>\n",
              "</div>"
            ],
            "text/plain": [
              "                                                text  genre\n",
              "0  in the near future lunar industry have make a ...      7\n",
              "1  the plot follow a disgruntled scientist who ha...      7\n",
              "2  set inside a quake like video game one of the ...      7\n",
              "3  maxwell kirshner ray milland arrive at a mansi...      7\n",
              "4  on november in snowflake arizona logger travis...      7"
            ]
          },
          "execution_count": 17,
          "metadata": {},
          "output_type": "execute_result"
        }
      ],
      "source": [
        "# Preprocess train data\n",
        "data = preprocess_data(data)\n",
        "data.head()"
      ]
    },
    {
      "cell_type": "code",
      "execution_count": 18,
      "id": "340dfb88",
      "metadata": {
        "id": "340dfb88"
      },
      "outputs": [],
      "source": [
        "# Preprocess test data\n",
        "data_test = DataFrame({'text': X_test})\n",
        "X_test = preprocess_data(data_test)['text']\n",
        "y_train = data['genre']"
      ]
    },
    {
      "cell_type": "markdown",
      "id": "ecfcf52e",
      "metadata": {
        "id": "ecfcf52e"
      },
      "source": [
        "## Stopwords filtering"
      ]
    },
    {
      "cell_type": "code",
      "execution_count": 19,
      "id": "d70452bd",
      "metadata": {
        "id": "d70452bd"
      },
      "outputs": [],
      "source": [
        "X_train = data['text']\n",
        "X_train_series = Series(X_train)\n",
        "\n",
        "# CountVectorizer to create a document-term matrix for stop words\n",
        "vectorizer = CountVectorizer(vocabulary=stop_words, binary=True)  # Count presence\n",
        "X = vectorizer.fit_transform(X_train_series)  # Transform the title-plot feature\n",
        "\n",
        "# Compute document frequencies\n",
        "doc_freq = X.sum(axis=0) / X.shape[0]  # Fraction of documents (observations) containing each stop word\n",
        "\n",
        "# Sort stop words by document frequency.\n",
        "stop_word_df = DataFrame({\n",
        "    'stop_word': vectorizer.get_feature_names_out(),\n",
        "    'doc_frequency': doc_freq.A1\n",
        "}).sort_values(by='doc_frequency', ascending=False)\n",
        "\n",
        "# Set a threshold for significant stop words\n",
        "def threshold_stop_word_df():\n",
        "  return stop_word_df[stop_word_df['doc_frequency'] >= threshold]\n",
        "\n",
        "stop_words_filtered = threshold_stop_word_df()['stop_word'].tolist()\n",
        "stop_words_filtered += genres"
      ]
    },
    {
      "cell_type": "code",
      "execution_count": 20,
      "id": "Ds8p9Rm8iMmO",
      "metadata": {
        "id": "Ds8p9Rm8iMmO"
      },
      "outputs": [],
      "source": [
        "# Feature extraction function\n",
        "def extract_features():\n",
        "    vectorizer = TfidfVectorizer(\n",
        "        max_features=max_features,\n",
        "        ngram_range=ngram_range,\n",
        "        sublinear_tf=True,\n",
        "        norm='l2',\n",
        "        stop_words=stop_words_filtered\n",
        "    )\n",
        "    X_train_vec = vectorizer.fit_transform(X_train)\n",
        "    X_test_vec = vectorizer.transform(X_test)\n",
        "    return X_train_vec, X_test_vec, vectorizer\n",
        "\n",
        "\n",
        "X_train_tfidf, X_test_tfidf, vectorizer = extract_features()"
      ]
    },
    {
      "cell_type": "code",
      "execution_count": 21,
      "id": "64f8b000",
      "metadata": {
        "colab": {
          "base_uri": "https://localhost:8080/"
        },
        "id": "64f8b000",
        "outputId": "f34fdfc4-c6e1-4862-dc2c-443843ee7d7d"
      },
      "outputs": [
        {
          "data": {
            "text/plain": [
              "[\"models/plot/['from', 'director', 'title']_0_(1, 5)/vectorizer.plk\"]"
            ]
          },
          "execution_count": 21,
          "metadata": {},
          "output_type": "execute_result"
        }
      ],
      "source": [
        "# Save vectorizers\n",
        "dump(vectorizer, vectorizer_path)"
      ]
    },
    {
      "cell_type": "markdown",
      "id": "890dcfb3",
      "metadata": {
        "id": "890dcfb3"
      },
      "source": [
        "## Train SVM with hyperparameter tuning"
      ]
    },
    {
      "cell_type": "code",
      "execution_count": 22,
      "id": "ZhUqV8chU2bA",
      "metadata": {
        "id": "ZhUqV8chU2bA"
      },
      "outputs": [],
      "source": [
        "def train_svm():\n",
        "    '''param_grid = {\n",
        "        'C': [0.1, 1, 10],\n",
        "        'kernel': ['linear', 'rbf', 'sigmoid'],\n",
        "        'class_weight': ['balanced', None]\n",
        "    }\n",
        "    grid_search = GridSearchCV(SVC(random_state = 42), param_grid, cv=5, n_jobs=-1, scoring=\"accuracy\")\n",
        "    grid_search.fit(X_train_tfidf, y_train)\n",
        "    best_model = grid_search.best_estimator_\n",
        "    print(f\"Best SVM Parameters: {grid_search.best_params_}\")\n",
        "    '''\n",
        "\n",
        "    model = SVC(kernel='sigmoid', C=1.0, class_weight=None, random_state = 42)\n",
        "    model.fit(X_train_tfidf, y_train)\n",
        "    \n",
        "    return model"
      ]
    },
    {
      "cell_type": "code",
      "execution_count": 23,
      "id": "6c285495",
      "metadata": {
        "id": "6c285495"
      },
      "outputs": [],
      "source": [
        "# SVM training\n",
        "svm_tfidf = train_svm()"
      ]
    },
    {
      "cell_type": "code",
      "execution_count": 24,
      "id": "Bw5jnzGc4q-P",
      "metadata": {
        "colab": {
          "base_uri": "https://localhost:8080/"
        },
        "id": "Bw5jnzGc4q-P",
        "outputId": "425ffbd0-4657-429e-d593-eaad3cc37b97"
      },
      "outputs": [
        {
          "data": {
            "text/plain": [
              "[\"models/plot/['from', 'director', 'title']_0_(1, 5)/svm.plk\"]"
            ]
          },
          "execution_count": 24,
          "metadata": {},
          "output_type": "execute_result"
        }
      ],
      "source": [
        "# Save SVM models\n",
        "dump(svm_tfidf, svm_path)"
      ]
    },
    {
      "cell_type": "markdown",
      "id": "626081f0",
      "metadata": {
        "id": "626081f0"
      },
      "source": [
        "## Train Multinomial NB with hyperparameter tuning"
      ]
    },
    {
      "cell_type": "code",
      "execution_count": 25,
      "id": "8b9a58fb",
      "metadata": {
        "id": "8b9a58fb"
      },
      "outputs": [],
      "source": [
        "# Train Multinomial NB with hyperparameter tuning\n",
        "def train_MultinomialNB():\n",
        "    param_grid = {\n",
        "        'alpha': [0.1, 0.5, 1.0, 1.5, 2.0],  # Smoothing parameter\n",
        "        'fit_prior': [True, False],           # Whether to learn class prior probabilities\n",
        "    }\n",
        "\n",
        "    grid_search = GridSearchCV(MultinomialNB(), param_grid, cv=5, n_jobs=-1, scoring=\"accuracy\")\n",
        "    grid_search.fit(X_train_tfidf, y_train)\n",
        "    best_model = grid_search.best_estimator_\n",
        "    \n",
        "    print(f\"Best Multinomial NB Parameters: {grid_search.best_params_}\")\n",
        "\n",
        "    return best_model"
      ]
    },
    {
      "cell_type": "code",
      "execution_count": 26,
      "id": "76241b6a",
      "metadata": {
        "colab": {
          "base_uri": "https://localhost:8080/"
        },
        "id": "76241b6a",
        "outputId": "8ae15b7e-70c2-4ae3-bc75-4c213945ea93"
      },
      "outputs": [
        {
          "name": "stdout",
          "output_type": "stream",
          "text": [
            "Best Multinomial NB Parameters: {'alpha': 0.1, 'fit_prior': False}\n"
          ]
        }
      ],
      "source": [
        "# MultinomialNB training\n",
        "MultinomialNB_tfidf = train_MultinomialNB()"
      ]
    },
    {
      "cell_type": "code",
      "execution_count": 27,
      "id": "592f07e9",
      "metadata": {
        "colab": {
          "base_uri": "https://localhost:8080/"
        },
        "id": "592f07e9",
        "outputId": "4ca941d8-697d-4c31-fe1c-08503816fc5b"
      },
      "outputs": [
        {
          "data": {
            "text/plain": [
              "[\"models/plot/['from', 'director', 'title']_0_(1, 5)/mnb.plk\"]"
            ]
          },
          "execution_count": 27,
          "metadata": {},
          "output_type": "execute_result"
        }
      ],
      "source": [
        "# Save MultinomialNB models\n",
        "dump(MultinomialNB_tfidf, mnb_path)"
      ]
    },
    {
      "cell_type": "markdown",
      "id": "9725a0f3",
      "metadata": {
        "id": "9725a0f3"
      },
      "source": [
        "## Evaluate the model"
      ]
    },
    {
      "cell_type": "code",
      "execution_count": 28,
      "id": "bccef53b",
      "metadata": {
        "id": "bccef53b"
      },
      "outputs": [],
      "source": [
        "# Evaluate the model\n",
        "def evaluate_model(model):\n",
        "    predictions = model.predict(X_test_tfidf)\n",
        "    accuracy = accuracy_score(y_test, predictions)\n",
        "    report = classification_report(y_test, predictions, target_names=label_encoder.classes_)\n",
        "    cm = confusion_matrix(y_test, predictions)\n",
        "    return accuracy, report, cm\n",
        "    \n",
        "def plot_cm(cm, label_encoder, cm_path):\n",
        "    plt.figure(figsize=(8, 6))\n",
        "    sns.heatmap(cm.T, annot=True, fmt='d', cmap='viridis', cbar=False,\n",
        "                xticklabels=label_encoder.classes_, yticklabels=label_encoder.classes_)\n",
        "    plt.xlabel('True')\n",
        "    plt.ylabel('Predicted')\n",
        "    plt.title('Confusion Matrix')\n",
        "    plt.savefig(cm_path)\n",
        "\n",
        "# def evaluate_model(model):\n",
        "#     global X_test_tfidf, y_test, label_encoder, data, test_indices\n",
        "\n",
        "#     # Step 1: Get model predictions\n",
        "#     predictions = model.predict(X_test_tfidf)\n",
        "\n",
        "#     # Step 2: Compute accuracy, classification report, and confusion matrix\n",
        "#     accuracy = accuracy_score(y_test, predictions)\n",
        "#     report = classification_report(y_test, predictions, target_names=label_encoder.classes_)\n",
        "#     cm = confusion_matrix(y_test, predictions)\n",
        "\n",
        "#     # Step 3: Decode the true and predicted labels from their encoded form\n",
        "#     y_test_labels = label_encoder.inverse_transform(y_test)\n",
        "#     predictions_labels = label_encoder.inverse_transform(predictions)\n",
        "\n",
        "#     # Step 4: Subset `data` to only include the test set using `test_indices`\n",
        "\n",
        "#     data_test = data_copy.loc[test_indices]  # Use test_indices to subset data\n",
        "\n",
        "#     # Step 5: Extract a single example for misclassifications in the specified genre pairs\n",
        "#     def get_misclassified_example(true_label, predicted_label):\n",
        "#         # Filter rows where the true label is misclassified as the predicted label\n",
        "#         mask = (y_test_labels == true_label) & (predictions_labels == predicted_label)\n",
        "#         misclassified_examples = data_test[mask]['plot']  # Use data_test here\n",
        "#         if not misclassified_examples.empty:\n",
        "#             return misclassified_examples.iloc[0]  # Return the first example\n",
        "#         else:\n",
        "#             return None  # Return None if no example is found\n",
        "\n",
        "#     # Step 6: Collect one misclassified example for each genre pair\n",
        "#     drama_romance_example = get_misclassified_example('drama', 'romance')\n",
        "#     romance_drama_example = get_misclassified_example('romance', 'drama')\n",
        "#     action_sci_fi_example = get_misclassified_example('action', 'sci-fi')\n",
        "#     sci_fi_action_example = get_misclassified_example('sci-fi', 'action')\n",
        "#     comedy_drama_example = get_misclassified_example('comedy', 'drama')\n",
        "#     drama_comedy_example = get_misclassified_example('drama', 'comedy')\n",
        "\n",
        "#     # Step 7: Return the evaluation results and a single misclassified example for each pair\n",
        "#     return {\n",
        "#         \"accuracy\": accuracy,\n",
        "#         \"report\": report,\n",
        "#         \"confusion_matrix\": cm,\n",
        "#         \"misclassified_examples\": {\n",
        "#             \"Drama -> Romance\": drama_romance_example,\n",
        "#             \"Romance -> Drama\": romance_drama_example,\n",
        "#             \"Action -> Sci-Fi\": action_sci_fi_example,\n",
        "#             \"Sci-Fi -> Action\": sci_fi_action_example,\n",
        "#             \"Comedy -> Drama\": comedy_drama_example,\n",
        "#             \"Drama -> Comedy\": drama_comedy_example,\n",
        "#         }\n",
        "#     }"
      ]
    },
    {
      "cell_type": "code",
      "execution_count": 29,
      "id": "0c5a0f9e",
      "metadata": {
        "colab": {
          "base_uri": "https://localhost:8080/"
        },
        "id": "0c5a0f9e",
        "outputId": "e5564b3d-4c1c-44dd-f541-927ce71da967"
      },
      "outputs": [
        {
          "name": "stdout",
          "output_type": "stream",
          "text": [
            "Accuracy SVM_tfidf: 70.31%\n",
            "Accuracy MultinomialNB_tfidf: 64.97%\n"
          ]
        }
      ],
      "source": [
        "accuracy_svm, report_svm, cm_svm = evaluate_model(svm_tfidf)\n",
        "print(f\"Accuracy SVM_tfidf: {accuracy_svm * 100:.2f}%\")\n",
        "\n",
        "# accuracy_svm = result[\"accuracy\"]\n",
        "\n",
        "# drama_romance = result[\"misclassified_examples\"][\"Drama -> Romance\"]\n",
        "# romance_drama = result[\"misclassified_examples\"][\"Romance -> Drama\"]\n",
        "\n",
        "# action_scifi = result[\"misclassified_examples\"][\"Action -> Sci-Fi\"]\n",
        "# scifi_action = result[\"misclassified_examples\"][ \"Sci-Fi -> Action\"]\n",
        "\n",
        "# comedy_drama = result[\"misclassified_examples\"][\"Comedy -> Drama\"]\n",
        "# drama_comedy = result[\"misclassified_examples\"][\"Drama -> Comedy\"]\n",
        "\n",
        "# print(f\"Should be Drama but was Romance \\n {drama_romance}\")\n",
        "# print(f\"Should be Romance but was Drama \\n {romance_drama}\")\n",
        "\n",
        "# print(f\"Should be Action but was Sci-Fi \\n {action_scifi}\")\n",
        "# print(f\"Should be Sci-Fi but was Action \\n {scifi_action}\")\n",
        "\n",
        "# print(f\"Should be Comedy but was Drama \\n {comedy_drama}\")\n",
        "# print(f\"Should be Drama but was Comedy \\n {drama_comedy}\")\n",
        "\n",
        "\n",
        "accuracy_mnb, report_mnb, cm_mnb = evaluate_model(MultinomialNB_tfidf)\n",
        "print(f\"Accuracy MultinomialNB_tfidf: {accuracy_mnb * 100:.2f}%\")"
      ]
    },
    {
      "cell_type": "markdown",
      "id": "91cb2de4",
      "metadata": {
        "id": "91cb2de4"
      },
      "source": [
        "### Determine the best model"
      ]
    },
    {
      "cell_type": "code",
      "execution_count": 30,
      "id": "95db7236",
      "metadata": {
        "id": "95db7236"
      },
      "outputs": [
        {
          "data": {
            "image/png": "[encoded data removed]",
            "text/plain": [
              "<Figure size 800x600 with 1 Axes>"
            ]
          },
          "metadata": {},
          "output_type": "display_data"
        }
      ],
      "source": [
        "# Determine the best model\n",
        "if accuracy_svm >= accuracy_mnb:\n",
        "    best_model_path = svm_path\n",
        "    best_report = report_svm\n",
        "    report_path = f'{base}/report_svm.txt'\n",
        "    best_cm = cm_svm\n",
        "    cm_path = f'{base}/cm_svm.png'\n",
        "else:\n",
        "    best_model_path = mnb_path\n",
        "    best_report = report_mnb\n",
        "    report_path = f'{base}/report_mnb.txt'\n",
        "    best_cm = cm_mnb\n",
        "    cm_path = f'{base}/cm_mnb.png'\n",
        "\n",
        "# Save classification report\n",
        "with open(report_path, 'w') as f:\n",
        "    f.write(str(best_report))\n",
        "\n",
        "# Save confusion matrix\n",
        "cm_df = DataFrame(best_cm, index=label_encoder.classes_, columns=label_encoder.classes_)\n",
        "plot_cm(best_cm, label_encoder, cm_path)"
      ]
    },
    {
      "cell_type": "markdown",
      "id": "3701949e",
      "metadata": {
        "id": "3701949e"
      },
      "source": [
        "## Load the model and vectorizer"
      ]
    },
    {
      "cell_type": "code",
      "execution_count": 31,
      "id": "343e0f65",
      "metadata": {
        "id": "343e0f65"
      },
      "outputs": [],
      "source": [
        "# Load a certain model\n",
        "def load_model(model_path, vectorizer_path, label_encoder_path):\n",
        "    model = load(model_path)\n",
        "    vectorizer = load(vectorizer_path)\n",
        "    label_encoder = load(label_encoder_path)\n",
        "    return model, vectorizer, label_encoder"
      ]
    },
    {
      "cell_type": "code",
      "execution_count": 32,
      "id": "a1b3c420",
      "metadata": {
        "id": "a1b3c420"
      },
      "outputs": [],
      "source": [
        "# Load the best model\n",
        "model, vectorizer, label_encoder = load_model(best_model_path, vectorizer_path, label_encoder_path)"
      ]
    },
    {
      "cell_type": "markdown",
      "id": "54d25897",
      "metadata": {
        "id": "54d25897"
      },
      "source": [
        "## Predict the genre for new movie plots"
      ]
    },
    {
      "cell_type": "code",
      "execution_count": 33,
      "id": "8cef637b",
      "metadata": {
        "id": "8cef637b"
      },
      "outputs": [],
      "source": [
        "# Combine fields\n",
        "def combine_test(data_test):\n",
        "    # Extract relevant columns (plot, combine_fields, genre)\n",
        "    selected_fields = ['plot'] + combine_fields\n",
        "    combined_data = data_test[selected_fields].copy()\n",
        "\n",
        "    # Handle missing values: drop rows with missing 'plot', fill missing combine_fields with ''\n",
        "    combined_data.dropna(subset=['plot'], inplace=True)  # Ensure 'plot' is not NaN\n",
        "    for field in combine_fields:\n",
        "        combined_data[field] = combined_data[field].fillna('')  # Replace NaN in combine_fields with empty strings\n",
        "\n",
        "    # Combine plot and other specified fields into a single feature\n",
        "    combined_data['text'] = combined_data['plot']\n",
        "    for field in combine_fields:\n",
        "        combined_data['text'] += ' ' + combined_data[field]\n",
        "\n",
        "    return combined_data"
      ]
    },
    {
      "cell_type": "code",
      "execution_count": 34,
      "id": "083e8e35",
      "metadata": {
        "id": "083e8e35"
      },
      "outputs": [],
      "source": [
        "# Predict the genre of the test data\n",
        "def predict_genre():\n",
        "    data_test = read_csv(test_path, sep='\\t', names=['title', 'from', 'director', 'plot'])\n",
        "    data_test = combine_test(data_test)\n",
        "    data_test = preprocess_data(data_test)\n",
        "    plots = data_test['text']\n",
        "    plot_vectors = vectorizer.transform(plots)\n",
        "    predicted_genres_encoded = model.predict(plot_vectors)\n",
        "    predicted_genres = label_encoder.inverse_transform(predicted_genres_encoded)\n",
        "\n",
        "    # Save the results to a file\n",
        "    with open(output_path, 'w') as f:\n",
        "        for genre in predicted_genres:\n",
        "            f.write(f\"{genre}\\n\")"
      ]
    },
    {
      "cell_type": "code",
      "execution_count": 35,
      "id": "b729fda3",
      "metadata": {
        "id": "b729fda3"
      },
      "outputs": [],
      "source": [
        "predict_genre()"
      ]
    }
  ],
  "metadata": {
    "colab": {
      "provenance": []
    },
    "kernelspec": {
      "display_name": "Python 3",
      "language": "python",
      "name": "python3"
    },
    "language_info": {
      "codemirror_mode": {
        "name": "ipython",
        "version": 3
      },
      "file_extension": ".py",
      "mimetype": "text/x-python",
      "name": "python",
      "nbconvert_exporter": "python",
      "pygments_lexer": "ipython3",
      "version": "3.11.9"
    }
  },
  "nbformat": 4,
  "nbformat_minor": 5
}
